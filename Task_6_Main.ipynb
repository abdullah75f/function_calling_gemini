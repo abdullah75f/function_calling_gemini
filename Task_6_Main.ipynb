{
  "nbformat": 4,
  "nbformat_minor": 0,
  "metadata": {
    "colab": {
      "provenance": [],
      "authorship_tag": "ABX9TyM8rxxIlkLGJ8S7b3rTTH8A",
      "include_colab_link": true
    },
    "kernelspec": {
      "name": "python3",
      "display_name": "Python 3"
    },
    "language_info": {
      "name": "python"
    }
  },
  "cells": [
    {
      "cell_type": "markdown",
      "metadata": {
        "id": "view-in-github",
        "colab_type": "text"
      },
      "source": [
        "<a href=\"https://colab.research.google.com/github/abdullah75f/function_calling_gemini/blob/main/Task_6_Main.ipynb\" target=\"_parent\"><img src=\"https://colab.research.google.com/assets/colab-badge.svg\" alt=\"Open In Colab\"/></a>"
      ]
    },
    {
      "cell_type": "code",
      "execution_count": null,
      "metadata": {
        "collapsed": true,
        "id": "kUEe_BHGof1C"
      },
      "outputs": [],
      "source": []
    },
    {
      "cell_type": "code",
      "source": [
        "!pip install requests google-generativeai pyttsx3 python-dotenv gtts\n",
        "from dotenv import load_dotenv\n",
        "import os\n",
        "import requests\n",
        "import random\n",
        "from google.genai.types import GenerateContentConfig\n",
        "from google import genai\n",
        "from gtts import gTTS\n",
        "from IPython.display import Audio\n",
        "import google.generativeai as genai\n",
        "print(\"printed\" , genai.__version__)\n",
        "from bs4 import BeautifulSoup\n",
        "import pyttsx3  # Commented out to remove dependency\n",
        "import google.generativeai as genai"
      ],
      "metadata": {
        "collapsed": true,
        "id": "61knWvfloj1U"
      },
      "execution_count": null,
      "outputs": []
    },
    {
      "cell_type": "code",
      "source": [
        "# Load environment variables\n",
        "load_dotenv()\n",
        "api_key = os.getenv(\"GEMINI_API_KEY\")"
      ],
      "metadata": {
        "id": "gwYUhjxUolOm"
      },
      "execution_count": 3,
      "outputs": []
    },
    {
      "cell_type": "code",
      "source": [
        "if not api_key:\n",
        "    raise ValueError(\"GEMINI_API_KEY not found in .env file.  Make sure it's defined and the .env file is correctly loaded.\")\n",
        "\n",
        "# Initialize Google Gemini API client\n",
        "genai.configure(api_key=api_key)\n",
        "model = genai.GenerativeModel('gemini-2.0-flash')"
      ],
      "metadata": {
        "id": "yEXEZo-5onoQ"
      },
      "execution_count": 4,
      "outputs": []
    },
    {
      "cell_type": "code",
      "source": [
        "DEFAULT_WATER_TIPS_URL = \"https://thewaterproject.org/water_conservation_tips\"\n",
        "WATER_TIPS = []"
      ],
      "metadata": {
        "id": "nrU0V7dhopO1"
      },
      "execution_count": 5,
      "outputs": []
    },
    {
      "cell_type": "code",
      "source": [
        "def scrape_water_tips(url):\n",
        "    \"\"\"Scrapes water conservation tips from the given URL.\"\"\"\n",
        "    global WATER_TIPS\n",
        "    try:\n",
        "        response = requests.get(url)\n",
        "        response.raise_for_status()\n",
        "        soup = BeautifulSoup(response.content, 'html.parser')\n",
        "        tip_elements = soup.find_all('li')  # ADJUST THIS SELECTOR IF NEEDED\n",
        "        WATER_TIPS = [tip.text.strip() for tip in tip_elements]\n",
        "        print(f\"Scraped {len(WATER_TIPS)} water conservation tips from {url}.\")\n",
        "    except requests.exceptions.RequestException as e:\n",
        "        print(f\"Error fetching URL: {e}\")\n",
        "        return None\n",
        "    except Exception as e:\n",
        "        print(f\"Error scraping tips: {e}\")\n",
        "        return None\n",
        "\n",
        "\n",
        "def get_water_conservation_tip(url: str):\n",
        "    \"\"\"\n",
        "    Returns a random water conservation tip from the specified URL.\n",
        "    \"\"\"\n",
        "    global WATER_TIPS\n",
        "    if not WATER_TIPS or url != DEFAULT_WATER_TIPS_URL:  # Only scrape if tips are empty or URL is different\n",
        "        scrape_water_tips(url) # Scrape new results\n",
        "\n",
        "    if WATER_TIPS:\n",
        "        return random.choice(WATER_TIPS)\n",
        "    else:\n",
        "        return \"No water conservation tips available.\"\n",
        "\n",
        "\n",
        "def save_tip(tip: str):\n",
        "    \"\"\"Saves the water conservation tip to a text file.\"\"\"\n",
        "    filename = \"water_conservation_tip.txt\"\n",
        "    with open(filename, \"w\") as file:\n",
        "        file.write(tip)\n",
        "    return f\"Tip saved to {filename}\"\n",
        "\n",
        "def set_volume(level: int):\n",
        "    \"\"\"Sets the system volume using pactl.\"\"\"\n",
        "    try:\n",
        "        os.system(f\"pactl set-sink-volume @DEFAULT_SINK@ {level}%\")\n",
        "        return f\"Volume set to {level}%\"\n",
        "    except Exception as e:\n",
        "        return f\"Error setting volume: {e}\"\n",
        "\n",
        "def tell_tip():\n",
        "    \"\"\"Reads the water conservation tip aloud using gTTS.\"\"\"\n",
        "    filename = \"water_conservation_tip.txt\"\n",
        "    try:\n",
        "        with open(filename, \"r\") as file:\n",
        "            tip = file.read()\n",
        "\n",
        "        tts = gTTS(text=f\"Here is a water conservation tip: {tip}\", lang='en')\n",
        "        tts.save(\"tip.mp3\")\n",
        "        display(Audio(\"tip.mp3\", autoplay=True))\n",
        "        os.remove(\"tip.mp3\")\n",
        "        return \"Tip told successfully\"\n",
        "    except Exception as e:\n",
        "        return f\"Error telling tip: {e}\"\n",
        "\n",
        "\n",
        "# Gemini Setup\n",
        "api_key = os.getenv(\"API_KEY\")\n",
        "genai.configure(api_key=api_key)\n",
        "model = genai.GenerativeModel('gemini-2.0-flash') # Now set to flash\n",
        "\n",
        "# You cannot set tool parameter, so set it to null and rely on the prompt\n",
        "\n",
        "prompt = \"Provide an original water conservation tip. The water tip should be unique, not from a website. Do not cite an source and make up your own water tip.\"\n",
        "\n",
        "response = model.generate_content(\n",
        "    prompt,\n",
        ")\n",
        "\n",
        "print(response.text)"
      ],
      "metadata": {
        "id": "Uv7ytmaCopsT"
      },
      "execution_count": null,
      "outputs": []
    }
  ]
}